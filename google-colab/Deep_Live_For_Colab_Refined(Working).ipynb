{
  "cells": [
    {
      "cell_type": "markdown",
      "metadata": {
        "id": "view-in-github",
        "colab_type": "text"
      },
      "source": [
        "<a href=\"https://colab.research.google.com/github/midas-ruin/bqwvibu/blob/main/google-colab/Deep_Live_For_Colab_Refined(Working).ipynb\" target=\"_parent\"><img src=\"https://colab.research.google.com/assets/colab-badge.svg\" alt=\"Open In Colab\"/></a>"
      ]
    },
    {
      "cell_type": "markdown",
      "metadata": {
        "id": "U3Fc3OXuDeqP"
      },
      "source": [
        "# **Install InsightFace and Dependencies:**\n",
        "\n",
        "\n",
        "\n",
        " Run the following code to install the required packages.\n",
        "\n",
        "\n",
        "\n",
        " Note: This installation varies and depends on your cuda and cudnn version. Incase of face swapping issue refer to the link in the debug session to know the version to install."
      ]
    },
    {
      "cell_type": "code",
      "execution_count": 1,
      "metadata": {
        "colab": {
          "base_uri": "https://localhost:8080/"
        },
        "id": "D-UgHjSFBE9d",
        "jupyter": {
          "outputs_hidden": true
        },
        "outputId": "1009c3bd-d44a-4213-b955-7672f8a2a5da"
      },
      "outputs": [
        {
          "output_type": "stream",
          "name": "stdout",
          "text": [
            "Requirement already satisfied: onnxruntime-gpu==1.20.1 in /usr/local/lib/python3.11/dist-packages (1.20.1)\n",
            "Requirement already satisfied: coloredlogs in /usr/local/lib/python3.11/dist-packages (from onnxruntime-gpu==1.20.1) (15.0.1)\n",
            "Requirement already satisfied: flatbuffers in /usr/local/lib/python3.11/dist-packages (from onnxruntime-gpu==1.20.1) (25.2.10)\n",
            "Requirement already satisfied: numpy>=1.21.6 in /usr/local/lib/python3.11/dist-packages (from onnxruntime-gpu==1.20.1) (2.0.2)\n",
            "Requirement already satisfied: packaging in /usr/local/lib/python3.11/dist-packages (from onnxruntime-gpu==1.20.1) (24.2)\n",
            "Requirement already satisfied: protobuf in /usr/local/lib/python3.11/dist-packages (from onnxruntime-gpu==1.20.1) (5.29.5)\n",
            "Requirement already satisfied: sympy in /usr/local/lib/python3.11/dist-packages (from onnxruntime-gpu==1.20.1) (1.13.1)\n",
            "Requirement already satisfied: humanfriendly>=9.1 in /usr/local/lib/python3.11/dist-packages (from coloredlogs->onnxruntime-gpu==1.20.1) (10.0)\n",
            "Requirement already satisfied: mpmath<1.4,>=1.1.0 in /usr/local/lib/python3.11/dist-packages (from sympy->onnxruntime-gpu==1.20.1) (1.3.0)\n",
            "Requirement already satisfied: insightface in /usr/local/lib/python3.11/dist-packages (0.7.3)\n",
            "Requirement already satisfied: numpy in /usr/local/lib/python3.11/dist-packages (from insightface) (2.0.2)\n",
            "Requirement already satisfied: onnx in /usr/local/lib/python3.11/dist-packages (from insightface) (1.18.0)\n",
            "Requirement already satisfied: tqdm in /usr/local/lib/python3.11/dist-packages (from insightface) (4.67.1)\n",
            "Requirement already satisfied: requests in /usr/local/lib/python3.11/dist-packages (from insightface) (2.32.3)\n",
            "Requirement already satisfied: matplotlib in /usr/local/lib/python3.11/dist-packages (from insightface) (3.10.0)\n",
            "Requirement already satisfied: Pillow in /usr/local/lib/python3.11/dist-packages (from insightface) (11.2.1)\n",
            "Requirement already satisfied: scipy in /usr/local/lib/python3.11/dist-packages (from insightface) (1.15.3)\n",
            "Requirement already satisfied: scikit-learn in /usr/local/lib/python3.11/dist-packages (from insightface) (1.6.1)\n",
            "Requirement already satisfied: scikit-image in /usr/local/lib/python3.11/dist-packages (from insightface) (0.25.2)\n",
            "Requirement already satisfied: easydict in /usr/local/lib/python3.11/dist-packages (from insightface) (1.13)\n",
            "Requirement already satisfied: cython in /usr/local/lib/python3.11/dist-packages (from insightface) (3.0.12)\n",
            "Requirement already satisfied: albumentations in /usr/local/lib/python3.11/dist-packages (from insightface) (2.0.8)\n",
            "Requirement already satisfied: prettytable in /usr/local/lib/python3.11/dist-packages (from insightface) (3.16.0)\n",
            "Requirement already satisfied: PyYAML in /usr/local/lib/python3.11/dist-packages (from albumentations->insightface) (6.0.2)\n",
            "Requirement already satisfied: pydantic>=2.9.2 in /usr/local/lib/python3.11/dist-packages (from albumentations->insightface) (2.11.5)\n",
            "Requirement already satisfied: albucore==0.0.24 in /usr/local/lib/python3.11/dist-packages (from albumentations->insightface) (0.0.24)\n",
            "Requirement already satisfied: opencv-python-headless>=4.9.0.80 in /usr/local/lib/python3.11/dist-packages (from albumentations->insightface) (4.11.0.86)\n",
            "Requirement already satisfied: stringzilla>=3.10.4 in /usr/local/lib/python3.11/dist-packages (from albucore==0.0.24->albumentations->insightface) (3.12.5)\n",
            "Requirement already satisfied: simsimd>=5.9.2 in /usr/local/lib/python3.11/dist-packages (from albucore==0.0.24->albumentations->insightface) (6.4.9)\n",
            "Requirement already satisfied: contourpy>=1.0.1 in /usr/local/lib/python3.11/dist-packages (from matplotlib->insightface) (1.3.2)\n",
            "Requirement already satisfied: cycler>=0.10 in /usr/local/lib/python3.11/dist-packages (from matplotlib->insightface) (0.12.1)\n",
            "Requirement already satisfied: fonttools>=4.22.0 in /usr/local/lib/python3.11/dist-packages (from matplotlib->insightface) (4.58.2)\n",
            "Requirement already satisfied: kiwisolver>=1.3.1 in /usr/local/lib/python3.11/dist-packages (from matplotlib->insightface) (1.4.8)\n",
            "Requirement already satisfied: packaging>=20.0 in /usr/local/lib/python3.11/dist-packages (from matplotlib->insightface) (24.2)\n",
            "Requirement already satisfied: pyparsing>=2.3.1 in /usr/local/lib/python3.11/dist-packages (from matplotlib->insightface) (3.2.3)\n",
            "Requirement already satisfied: python-dateutil>=2.7 in /usr/local/lib/python3.11/dist-packages (from matplotlib->insightface) (2.9.0.post0)\n",
            "Requirement already satisfied: protobuf>=4.25.1 in /usr/local/lib/python3.11/dist-packages (from onnx->insightface) (5.29.5)\n",
            "Requirement already satisfied: typing_extensions>=4.7.1 in /usr/local/lib/python3.11/dist-packages (from onnx->insightface) (4.14.0)\n",
            "Requirement already satisfied: wcwidth in /usr/local/lib/python3.11/dist-packages (from prettytable->insightface) (0.2.13)\n",
            "Requirement already satisfied: charset-normalizer<4,>=2 in /usr/local/lib/python3.11/dist-packages (from requests->insightface) (3.4.2)\n",
            "Requirement already satisfied: idna<4,>=2.5 in /usr/local/lib/python3.11/dist-packages (from requests->insightface) (3.10)\n",
            "Requirement already satisfied: urllib3<3,>=1.21.1 in /usr/local/lib/python3.11/dist-packages (from requests->insightface) (2.4.0)\n",
            "Requirement already satisfied: certifi>=2017.4.17 in /usr/local/lib/python3.11/dist-packages (from requests->insightface) (2025.4.26)\n",
            "Requirement already satisfied: networkx>=3.0 in /usr/local/lib/python3.11/dist-packages (from scikit-image->insightface) (3.5)\n",
            "Requirement already satisfied: imageio!=2.35.0,>=2.33 in /usr/local/lib/python3.11/dist-packages (from scikit-image->insightface) (2.37.0)\n",
            "Requirement already satisfied: tifffile>=2022.8.12 in /usr/local/lib/python3.11/dist-packages (from scikit-image->insightface) (2025.6.1)\n",
            "Requirement already satisfied: lazy-loader>=0.4 in /usr/local/lib/python3.11/dist-packages (from scikit-image->insightface) (0.4)\n",
            "Requirement already satisfied: joblib>=1.2.0 in /usr/local/lib/python3.11/dist-packages (from scikit-learn->insightface) (1.5.1)\n",
            "Requirement already satisfied: threadpoolctl>=3.1.0 in /usr/local/lib/python3.11/dist-packages (from scikit-learn->insightface) (3.6.0)\n",
            "Requirement already satisfied: annotated-types>=0.6.0 in /usr/local/lib/python3.11/dist-packages (from pydantic>=2.9.2->albumentations->insightface) (0.7.0)\n",
            "Requirement already satisfied: pydantic-core==2.33.2 in /usr/local/lib/python3.11/dist-packages (from pydantic>=2.9.2->albumentations->insightface) (2.33.2)\n",
            "Requirement already satisfied: typing-inspection>=0.4.0 in /usr/local/lib/python3.11/dist-packages (from pydantic>=2.9.2->albumentations->insightface) (0.4.1)\n",
            "Requirement already satisfied: six>=1.5 in /usr/local/lib/python3.11/dist-packages (from python-dateutil>=2.7->matplotlib->insightface) (1.17.0)\n",
            "Reading package lists... Done\n",
            "Building dependency tree... Done\n",
            "Reading state information... Done\n",
            "ffmpeg is already the newest version (7:4.4.2-0ubuntu0.22.04.1).\n",
            "0 upgraded, 0 newly installed, 0 to remove and 35 not upgraded.\n",
            "ffmpeg version 4.4.2-0ubuntu0.22.04.1 Copyright (c) 2000-2021 the FFmpeg developers\n",
            "built with gcc 11 (Ubuntu 11.2.0-19ubuntu1)\n",
            "configuration: --prefix=/usr --extra-version=0ubuntu0.22.04.1 --toolchain=hardened --libdir=/usr/lib/x86_64-linux-gnu --incdir=/usr/include/x86_64-linux-gnu --arch=amd64 --enable-gpl --disable-stripping --enable-gnutls --enable-ladspa --enable-libaom --enable-libass --enable-libbluray --enable-libbs2b --enable-libcaca --enable-libcdio --enable-libcodec2 --enable-libdav1d --enable-libflite --enable-libfontconfig --enable-libfreetype --enable-libfribidi --enable-libgme --enable-libgsm --enable-libjack --enable-libmp3lame --enable-libmysofa --enable-libopenjpeg --enable-libopenmpt --enable-libopus --enable-libpulse --enable-librabbitmq --enable-librubberband --enable-libshine --enable-libsnappy --enable-libsoxr --enable-libspeex --enable-libsrt --enable-libssh --enable-libtheora --enable-libtwolame --enable-libvidstab --enable-libvorbis --enable-libvpx --enable-libwebp --enable-libx265 --enable-libxml2 --enable-libxvid --enable-libzimg --enable-libzmq --enable-libzvbi --enable-lv2 --enable-omx --enable-openal --enable-opencl --enable-opengl --enable-sdl2 --enable-pocketsphinx --enable-librsvg --enable-libmfx --enable-libdc1394 --enable-libdrm --enable-libiec61883 --enable-chromaprint --enable-frei0r --enable-libx264 --enable-shared\n",
            "libavutil      56. 70.100 / 56. 70.100\n",
            "libavcodec     58.134.100 / 58.134.100\n",
            "libavformat    58. 76.100 / 58. 76.100\n",
            "libavdevice    58. 13.100 / 58. 13.100\n",
            "libavfilter     7.110.100 /  7.110.100\n",
            "libswscale      5.  9.100 /  5.  9.100\n",
            "libswresample   3.  9.100 /  3.  9.100\n",
            "libpostproc    55.  9.100 / 55.  9.100\n",
            "mkdir: cannot create directory ‘deepfakecollab’: File exists\n"
          ]
        }
      ],
      "source": [
        "#!pip install onnx==1.16.0\n",
        "!pip install onnxruntime-gpu==1.20.1 #--extra-index-url https://aiinfra.pkgs.visualstudio.com/PublicPackages/_packaging/onnxruntime-cuda-12/pypi/simple/\n",
        "!pip install insightface #==0.7.3\n",
        "#!pip install onnxruntime==1.18.0\n",
        "!apt-get install -y ffmpeg\n",
        "!ffmpeg -version\n",
        "!mkdir deepfakecollab"
      ]
    },
    {
      "cell_type": "markdown",
      "metadata": {
        "id": "GYFbuuCdvTaO"
      },
      "source": [
        "### DeepFakeLive\n",
        "\n",
        "Follow the steps below to create the necessery directories for the project"
      ]
    },
    {
      "cell_type": "code",
      "execution_count": 2,
      "metadata": {
        "id": "lJJbUDokN0bF"
      },
      "outputs": [],
      "source": [
        "!cd deepfakecollab\n",
        "!mkdir deepfakecollab/Scripts"
      ]
    },
    {
      "cell_type": "markdown",
      "metadata": {
        "id": "0rTCd2R1uw7A"
      },
      "source": [
        "### [Optional] FRP\n",
        "\n",
        "\n",
        "\n",
        "Follow the steps below to setup FRP. You will also need to host the FRPS on your VPS (free).\n",
        "\n",
        "\n",
        "\n",
        "Note: You cannot run both FRP and ngrok together. Its ether FRP and ngrok"
      ]
    },
    {
      "cell_type": "code",
      "execution_count": 3,
      "metadata": {
        "colab": {
          "base_uri": "https://localhost:8080/"
        },
        "execution": {
          "iopub.execute_input": "2024-11-11T16:35:36.013863Z",
          "iopub.status.busy": "2024-11-11T16:35:36.013401Z",
          "iopub.status.idle": "2024-11-11T16:35:37.835343Z",
          "shell.execute_reply": "2024-11-11T16:35:37.833430Z",
          "shell.execute_reply.started": "2024-11-11T16:35:36.013814Z"
        },
        "id": "ckp_dM52N9K3",
        "outputId": "2e3074c4-ff16-4754-9a7d-0581d1a57a19",
        "trusted": true
      },
      "outputs": [
        {
          "output_type": "stream",
          "name": "stdout",
          "text": [
            "frpc is not found, installing...\n",
            "Done!\n"
          ]
        }
      ],
      "source": [
        "\n",
        "!touch deepfakecollab/Scripts/get_frs.sh\n",
        "getfrs = \"\"\"#!/usr/bin/env bash\n",
        "# Check if frpc is installed\n",
        "command -v frpc >/dev/null 2>&1\n",
        "if [[ $? -ne 0 ]]; then\n",
        "    echo \"frpc is not found, installing...\"\n",
        "    wget -q -nc https://github.com/fatedier/frp/releases/download/v0.59.0/frp_0.59.0_linux_amd64.tar.gz\n",
        "    tar -xzf frp_0.59.0_linux_amd64.tar.gz\n",
        "    echo \"Done!\"\n",
        "fi\"\"\"\n",
        "with open('deepfakecollab/Scripts/get_frs.sh', 'w') as f:\n",
        "    f.write(getfrs)\n",
        "!touch deepfakecollab/Scripts/open_tunnel_frs.sh\n",
        "getfrs = \"\"\"#!/usr/bin/env bash\n",
        "cmd=\"frp_0.59.0_linux_amd64/frpc -c frp_0.59.0_linux_amd64/frpc.toml\"\n",
        "kill -9 $(ps aux | grep $cmd | awk '{print $2}') 2> /dev/null\n",
        "echo Opening tunnel\n",
        "$cmd\"\"\"\n",
        "with open('deepfakecollab/Scripts/open_tunnel_frs.sh', 'w') as f:\n",
        "    f.write(getfrs)\n",
        "!chmod +x deepfakecollab/Scripts/get_frs.sh\n",
        "!chmod +x deepfakecollab/Scripts/open_tunnel_frs.sh\n",
        "!deepfakecollab/Scripts/get_frs.sh"
      ]
    },
    {
      "cell_type": "markdown",
      "metadata": {
        "id": "9n-qESinvM22"
      },
      "source": [
        "### [Optional]  Ngrok\n",
        "\n",
        "\n",
        "\n",
        "Follow to Setup Ngrok.\n",
        "\n",
        "\n",
        "\n",
        "Note: You need an API key from Ngrok to use tcp for free you would need to add a billing details to their platform"
      ]
    },
    {
      "cell_type": "code",
      "execution_count": 4,
      "metadata": {
        "colab": {
          "base_uri": "https://localhost:8080/"
        },
        "id": "S9U6x85DvTTV",
        "outputId": "a1aa2142-d5f6-4243-cc55-9566f1367753"
      },
      "outputs": [
        {
          "output_type": "stream",
          "name": "stdout",
          "text": [
            "ngrok is not found, installing...\n",
            "Done!\n"
          ]
        }
      ],
      "source": [
        "!touch deepfakecollab/Scripts/get_ngrok.sh\n",
        "getfrs = \"\"\"#!/usr/bin/env bash\n",
        "# Check if frpc is installed\n",
        "command -v frpc >/dev/null 2>&1\n",
        "if [[ $? -ne 0 ]]; then\n",
        "    echo \"ngrok is not found, installing...\"\n",
        "    wget -q -nc https://bin.equinox.io/c/bNyj1mQVY4c/ngrok-v3-stable-linux-amd64.tgz\n",
        "    tar -xzf ngrok-v3-stable-linux-amd64.tgz\n",
        "    echo \"Done!\"\n",
        "fi\"\"\"\n",
        "with open('deepfakecollab/Scripts/get_ngrok.sh', 'w') as f:\n",
        "    f.write(getfrs)\n",
        "!touch deepfakecollab/Scripts/open_tunnel_ngrok.sh\n",
        "getfrs = \"\"\"#!/usr/bin/env bash\n",
        "cmd=\"./ngrok start --all --config ngrok.conf\"\n",
        "kill -9 $(ps aux | grep $cmd | awk '{print $2}') 2> /dev/null\n",
        "echo Opening tunnel\n",
        "$cmd\"\"\"\n",
        "with open('deepfakecollab/Scripts/open_tunnel_ngrok.sh', 'w') as f:\n",
        "    f.write(getfrs)\n",
        "!chmod +x deepfakecollab/Scripts/get_ngrok.sh\n",
        "!chmod +x deepfakecollab/Scripts/open_tunnel_ngrok.sh\n",
        "!deepfakecollab/Scripts/get_ngrok.sh"
      ]
    },
    {
      "cell_type": "markdown",
      "metadata": {
        "id": "JmNGrasvwnVX"
      },
      "source": [
        "### Create Model Folder\n",
        "\n",
        "\n",
        "\n",
        "Create and download into the model folder"
      ]
    },
    {
      "cell_type": "code",
      "execution_count": 3,
      "metadata": {
        "colab": {
          "base_uri": "https://localhost:8080/"
        },
        "id": "EU1ZXGlGw8Rb",
        "outputId": "1df9e4c6-d797-4885-92db-0c9438a66c81"
      },
      "outputs": [
        {
          "output_type": "stream",
          "name": "stdout",
          "text": [
            "--2025-06-18 15:52:49--  https://huggingface.co/ninjawick/webui-faceswap-unlocked/resolve/main/inswapper_128.onnx\n",
            "Resolving huggingface.co (huggingface.co)... 18.164.174.55, 18.164.174.17, 18.164.174.23, ...\n",
            "Connecting to huggingface.co (huggingface.co)|18.164.174.55|:443... connected.\n",
            "HTTP request sent, awaiting response... 302 Found\n",
            "Location: https://cdn-lfs.hf.co/repos/1d/30/1d30e44e7162b29b4d88bd541a73892ea95e967f8198019756868e03c15dc06c/e4a3f08c753cb72d04e10aa0f7dbe3deebbf39567d4ead6dce08e98aa49e16af?response-content-disposition=inline%3B+filename*%3DUTF-8%27%27inswapper_128.onnx%3B+filename%3D%22inswapper_128.onnx%22%3B&Expires=1750265569&Policy=eyJTdGF0ZW1lbnQiOlt7IkNvbmRpdGlvbiI6eyJEYXRlTGVzc1RoYW4iOnsiQVdTOkVwb2NoVGltZSI6MTc1MDI2NTU2OX19LCJSZXNvdXJjZSI6Imh0dHBzOi8vY2RuLWxmcy5oZi5jby9yZXBvcy8xZC8zMC8xZDMwZTQ0ZTcxNjJiMjliNGQ4OGJkNTQxYTczODkyZWE5NWU5NjdmODE5ODAxOTc1Njg2OGUwM2MxNWRjMDZjL2U0YTNmMDhjNzUzY2I3MmQwNGUxMGFhMGY3ZGJlM2RlZWJiZjM5NTY3ZDRlYWQ2ZGNlMDhlOThhYTQ5ZTE2YWY%7EcmVzcG9uc2UtY29udGVudC1kaXNwb3NpdGlvbj0qIn1dfQ__&Signature=sNIW%7ErtZtxY7jv9l3nWgTY-MWVqxCAZ%7EcvYarhgicxf4beN3vS74MLMjv0RbGKUmtLc7lZR0jQNhvzx8DU8y8EPwjAL0vt8wus9G5eyPiftbxYMJJphstu9Zg2I07ADQhOzSV%7EBgwwfrSL5w315P%7E0EAnnIMesKVxxn3vEqwl4V5rNUh8XUHTZHPpXy2KHEfRnVFZ0VZX-5Q0Qt4PLfnDSjgm059vKR36Pij7GVkIwQZyAqLqt-Sw%7ER-n0mbhYO1FKZ4409Qxil1v-6pHZhrV%7EtJTbjGDwljqeNy66b3U567Gug0gtgRuxjTzvwCtPkpF3a9CVPVlCdB%7EsPomERjfA__&Key-Pair-Id=K3RPWS32NSSJCE [following]\n",
            "--2025-06-18 15:52:49--  https://cdn-lfs.hf.co/repos/1d/30/1d30e44e7162b29b4d88bd541a73892ea95e967f8198019756868e03c15dc06c/e4a3f08c753cb72d04e10aa0f7dbe3deebbf39567d4ead6dce08e98aa49e16af?response-content-disposition=inline%3B+filename*%3DUTF-8%27%27inswapper_128.onnx%3B+filename%3D%22inswapper_128.onnx%22%3B&Expires=1750265569&Policy=eyJTdGF0ZW1lbnQiOlt7IkNvbmRpdGlvbiI6eyJEYXRlTGVzc1RoYW4iOnsiQVdTOkVwb2NoVGltZSI6MTc1MDI2NTU2OX19LCJSZXNvdXJjZSI6Imh0dHBzOi8vY2RuLWxmcy5oZi5jby9yZXBvcy8xZC8zMC8xZDMwZTQ0ZTcxNjJiMjliNGQ4OGJkNTQxYTczODkyZWE5NWU5NjdmODE5ODAxOTc1Njg2OGUwM2MxNWRjMDZjL2U0YTNmMDhjNzUzY2I3MmQwNGUxMGFhMGY3ZGJlM2RlZWJiZjM5NTY3ZDRlYWQ2ZGNlMDhlOThhYTQ5ZTE2YWY%7EcmVzcG9uc2UtY29udGVudC1kaXNwb3NpdGlvbj0qIn1dfQ__&Signature=sNIW%7ErtZtxY7jv9l3nWgTY-MWVqxCAZ%7EcvYarhgicxf4beN3vS74MLMjv0RbGKUmtLc7lZR0jQNhvzx8DU8y8EPwjAL0vt8wus9G5eyPiftbxYMJJphstu9Zg2I07ADQhOzSV%7EBgwwfrSL5w315P%7E0EAnnIMesKVxxn3vEqwl4V5rNUh8XUHTZHPpXy2KHEfRnVFZ0VZX-5Q0Qt4PLfnDSjgm059vKR36Pij7GVkIwQZyAqLqt-Sw%7ER-n0mbhYO1FKZ4409Qxil1v-6pHZhrV%7EtJTbjGDwljqeNy66b3U567Gug0gtgRuxjTzvwCtPkpF3a9CVPVlCdB%7EsPomERjfA__&Key-Pair-Id=K3RPWS32NSSJCE\n",
            "Resolving cdn-lfs.hf.co (cdn-lfs.hf.co)... 3.168.132.99, 3.168.132.48, 3.168.132.25, ...\n",
            "Connecting to cdn-lfs.hf.co (cdn-lfs.hf.co)|3.168.132.99|:443... connected.\n",
            "HTTP request sent, awaiting response... 200 OK\n",
            "Length: 554253681 (529M) [binary/octet-stream]\n",
            "Saving to: ‘/content/deepfakecollab/Model/inswapper_128.onnx’\n",
            "\n",
            "inswapper_128.onnx  100%[===================>] 528.58M   271MB/s    in 2.0s    \n",
            "\n",
            "2025-06-18 15:52:51 (271 MB/s) - ‘/content/deepfakecollab/Model/inswapper_128.onnx’ saved [554253681/554253681]\n",
            "\n",
            "--2025-06-18 15:52:51--  https://huggingface.co/hacksider/deep-live-cam/resolve/main/GFPGANv1.4.pth\n",
            "Resolving huggingface.co (huggingface.co)... 18.164.174.55, 18.164.174.23, 18.164.174.17, ...\n",
            "Connecting to huggingface.co (huggingface.co)|18.164.174.55|:443... connected.\n",
            "HTTP request sent, awaiting response... 302 Found\n",
            "Location: https://cdn-lfs.hf.co/repos/47/8e/478ea6841e7ee9b6a18fcbd35a172c66f44ae30fcce68054ea545317cb889208/e2cd4703ab14f4d01fd1383a8a8b266f9a5833dacee8e6a79d3bf21a1b6be5ad?response-content-disposition=inline%3B+filename*%3DUTF-8%27%27GFPGANv1.4.pth%3B+filename%3D%22GFPGANv1.4.pth%22%3B&Expires=1750265571&Policy=eyJTdGF0ZW1lbnQiOlt7IkNvbmRpdGlvbiI6eyJEYXRlTGVzc1RoYW4iOnsiQVdTOkVwb2NoVGltZSI6MTc1MDI2NTU3MX19LCJSZXNvdXJjZSI6Imh0dHBzOi8vY2RuLWxmcy5oZi5jby9yZXBvcy80Ny84ZS80NzhlYTY4NDFlN2VlOWI2YTE4ZmNiZDM1YTE3MmM2NmY0NGFlMzBmY2NlNjgwNTRlYTU0NTMxN2NiODg5MjA4L2UyY2Q0NzAzYWIxNGY0ZDAxZmQxMzgzYThhOGIyNjZmOWE1ODMzZGFjZWU4ZTZhNzlkM2JmMjFhMWI2YmU1YWQ%7EcmVzcG9uc2UtY29udGVudC1kaXNwb3NpdGlvbj0qIn1dfQ__&Signature=SVaIwzidgF-f%7EvMgoUTpJjR-wmbOjz0YSLke66-Mm2bSTOBJwJ81IEq53cELqpx0bfhcKM343PNgUsRySMar6RQR9kgRFo0cD7zgYWArvCj7v77NMJKyoOx4CLGm3MB1D5bV3JMRJsfiZShBKqDkQ6Ru3bYBmX-QruGHvKIRis11YcFRNTPYDfmyor%7Er2n8DwCgMJ6ZEeivF3ID2kk2rNjezOfZjL4XRAGESan5hy8tjO59bFUKjndYtocHMCfA5ui0qBicL8HtCB04RNkobAYe4BnZ6P-%7Ea72iniJhLAKMt3qrfVUNvOFHgYWMLIYymqp9MtWes535UPPuoH1cWBw__&Key-Pair-Id=K3RPWS32NSSJCE [following]\n",
            "--2025-06-18 15:52:51--  https://cdn-lfs.hf.co/repos/47/8e/478ea6841e7ee9b6a18fcbd35a172c66f44ae30fcce68054ea545317cb889208/e2cd4703ab14f4d01fd1383a8a8b266f9a5833dacee8e6a79d3bf21a1b6be5ad?response-content-disposition=inline%3B+filename*%3DUTF-8%27%27GFPGANv1.4.pth%3B+filename%3D%22GFPGANv1.4.pth%22%3B&Expires=1750265571&Policy=eyJTdGF0ZW1lbnQiOlt7IkNvbmRpdGlvbiI6eyJEYXRlTGVzc1RoYW4iOnsiQVdTOkVwb2NoVGltZSI6MTc1MDI2NTU3MX19LCJSZXNvdXJjZSI6Imh0dHBzOi8vY2RuLWxmcy5oZi5jby9yZXBvcy80Ny84ZS80NzhlYTY4NDFlN2VlOWI2YTE4ZmNiZDM1YTE3MmM2NmY0NGFlMzBmY2NlNjgwNTRlYTU0NTMxN2NiODg5MjA4L2UyY2Q0NzAzYWIxNGY0ZDAxZmQxMzgzYThhOGIyNjZmOWE1ODMzZGFjZWU4ZTZhNzlkM2JmMjFhMWI2YmU1YWQ%7EcmVzcG9uc2UtY29udGVudC1kaXNwb3NpdGlvbj0qIn1dfQ__&Signature=SVaIwzidgF-f%7EvMgoUTpJjR-wmbOjz0YSLke66-Mm2bSTOBJwJ81IEq53cELqpx0bfhcKM343PNgUsRySMar6RQR9kgRFo0cD7zgYWArvCj7v77NMJKyoOx4CLGm3MB1D5bV3JMRJsfiZShBKqDkQ6Ru3bYBmX-QruGHvKIRis11YcFRNTPYDfmyor%7Er2n8DwCgMJ6ZEeivF3ID2kk2rNjezOfZjL4XRAGESan5hy8tjO59bFUKjndYtocHMCfA5ui0qBicL8HtCB04RNkobAYe4BnZ6P-%7Ea72iniJhLAKMt3qrfVUNvOFHgYWMLIYymqp9MtWes535UPPuoH1cWBw__&Key-Pair-Id=K3RPWS32NSSJCE\n",
            "Resolving cdn-lfs.hf.co (cdn-lfs.hf.co)... 3.168.132.99, 3.168.132.48, 3.168.132.25, ...\n",
            "Connecting to cdn-lfs.hf.co (cdn-lfs.hf.co)|3.168.132.99|:443... connected.\n",
            "HTTP request sent, awaiting response... 200 OK\n",
            "Length: 348632874 (332M) [binary/octet-stream]\n",
            "Saving to: ‘/content/deepfakecollab/Model/GFPGANv1.4.pth’\n",
            "\n",
            "GFPGANv1.4.pth      100%[===================>] 332.48M   263MB/s    in 1.3s    \n",
            "\n",
            "2025-06-18 15:52:53 (263 MB/s) - ‘/content/deepfakecollab/Model/GFPGANv1.4.pth’ saved [348632874/348632874]\n",
            "\n"
          ]
        }
      ],
      "source": [
        "!mkdir -p deepfakecollab/Model\n",
        "!wget https://huggingface.co/ninjawick/webui-faceswap-unlocked/resolve/main/inswapper_128.onnx -P /content/deepfakecollab/Model\n",
        "!wget https://huggingface.co/hacksider/deep-live-cam/resolve/main/GFPGANv1.4.pth -P /content/deepfakecollab/Model"
      ]
    },
    {
      "cell_type": "markdown",
      "metadata": {
        "id": "sNHGT2FjjZiK"
      },
      "source": [
        "### [Ignore]  DeBuggin (Run only when its necessery)\n",
        "\n",
        "\n",
        "\n",
        "Debugging to ensure cuda was used. if not check the version of the cudnn, edit the install of the onnxruntime package to install the right version. https://onnxruntime.ai/docs/execution-providers/CUDA-ExecutionProvider.html#requirements"
      ]
    },
    {
      "cell_type": "code",
      "execution_count": 6,
      "metadata": {
        "colab": {
          "base_uri": "https://localhost:8080/"
        },
        "id": "ZQr-gWl6Ibw7",
        "outputId": "87cd078b-f91d-46fa-ff29-6845aa3fdcf2"
      },
      "outputs": [
        {
          "output_type": "stream",
          "name": "stdout",
          "text": [
            "#define CUDNN_MAJOR 9\n",
            "#define CUDNN_MINOR 2\n",
            "#define CUDNN_PATCHLEVEL 1\n",
            "--\n",
            "#define CUDNN_VERSION (CUDNN_MAJOR * 10000 + CUDNN_MINOR * 100 + CUDNN_PATCHLEVEL)\n",
            "\n",
            "/* cannot use constexpr here since this is a C-only file */\n"
          ]
        }
      ],
      "source": [
        "!cat /usr/include/cudnn_version.h | grep CUDNN_MAJOR -A 2"
      ]
    },
    {
      "cell_type": "code",
      "execution_count": 7,
      "metadata": {
        "colab": {
          "base_uri": "https://localhost:8080/"
        },
        "id": "RZ9r-s_9Kdha",
        "outputId": "68935674-b694-4681-8967-a6d5186a6609"
      },
      "outputs": [
        {
          "output_type": "stream",
          "name": "stdout",
          "text": [
            "1.20.1\n"
          ]
        }
      ],
      "source": [
        "import onnxruntime as rt\n",
        "print(rt.__version__)"
      ]
    },
    {
      "cell_type": "code",
      "execution_count": 8,
      "metadata": {
        "colab": {
          "base_uri": "https://localhost:8080/"
        },
        "id": "Stwb4OHv_hs0",
        "outputId": "5dc8b09b-34de-4e71-dc71-190aa25f0c2a"
      },
      "outputs": [
        {
          "output_type": "stream",
          "name": "stdout",
          "text": [
            "*************** EP Error ***************\n",
            "EP Error /onnxruntime_src/onnxruntime/python/onnxruntime_pybind_state.cc:507 void onnxruntime::python::RegisterTensorRTPluginsAsCustomOps(PySessionOptions&, const onnxruntime::ProviderOptions&) Please install TensorRT libraries as mentioned in the GPU requirements page, make sure they're in the PATH or LD_LIBRARY_PATH, and that your GPU is supported.\n",
            " when using ['TensorrtExecutionProvider', 'CUDAExecutionProvider', 'CPUExecutionProvider']\n",
            "Falling back to ['CUDAExecutionProvider', 'CPUExecutionProvider'] and retrying.\n",
            "****************************************\n",
            "Active providers: ['CUDAExecutionProvider', 'CPUExecutionProvider']\n"
          ]
        }
      ],
      "source": [
        "# Ensure the GPU providers are set explicitly\n",
        "ort_session = rt.InferenceSession(\n",
        "    \"/content/deepfakecollab/Model/inswapper_128.onnx\",\n",
        "    providers=[\"TensorrtExecutionProvider\", \"CUDAExecutionProvider\", \"CPUExecutionProvider\"]\n",
        ")\n",
        "# Verify the active provider again\n",
        "print(\"Active providers:\", ort_session.get_providers())"
      ]
    },
    {
      "cell_type": "code",
      "execution_count": 9,
      "metadata": {
        "colab": {
          "base_uri": "https://localhost:8080/"
        },
        "id": "lk5osj-z2gST",
        "outputId": "45a03991-0d0c-4e85-cc2e-921e42eee9a3"
      },
      "outputs": [
        {
          "output_type": "stream",
          "name": "stdout",
          "text": [
            "ONNX Runtime is using: GPU\n"
          ]
        }
      ],
      "source": [
        "from onnxruntime import get_device\n",
        "print(\"ONNX Runtime is using:\", get_device())"
      ]
    },
    {
      "cell_type": "code",
      "execution_count": 10,
      "metadata": {
        "colab": {
          "base_uri": "https://localhost:8080/"
        },
        "id": "wtkP4SLy7g9S",
        "outputId": "c647fc51-a002-4855-d522-57e8992155f5"
      },
      "outputs": [
        {
          "output_type": "stream",
          "name": "stdout",
          "text": [
            "Tue Jun 17 10:55:35 2025       \n",
            "+-----------------------------------------------------------------------------------------+\n",
            "| NVIDIA-SMI 550.54.15              Driver Version: 550.54.15      CUDA Version: 12.4     |\n",
            "|-----------------------------------------+------------------------+----------------------+\n",
            "| GPU  Name                 Persistence-M | Bus-Id          Disp.A | Volatile Uncorr. ECC |\n",
            "| Fan  Temp   Perf          Pwr:Usage/Cap |           Memory-Usage | GPU-Util  Compute M. |\n",
            "|                                         |                        |               MIG M. |\n",
            "|=========================================+========================+======================|\n",
            "|   0  Tesla T4                       Off |   00000000:00:04.0 Off |                    0 |\n",
            "| N/A   42C    P0             26W /   70W |    1140MiB /  15360MiB |     12%      Default |\n",
            "|                                         |                        |                  N/A |\n",
            "+-----------------------------------------+------------------------+----------------------+\n",
            "                                                                                         \n",
            "+-----------------------------------------------------------------------------------------+\n",
            "| Processes:                                                                              |\n",
            "|  GPU   GI   CI        PID   Type   Process name                              GPU Memory |\n",
            "|        ID   ID                                                               Usage      |\n",
            "|=========================================================================================|\n",
            "+-----------------------------------------------------------------------------------------+\n"
          ]
        }
      ],
      "source": [
        "!nvidia-smi\n"
      ]
    },
    {
      "cell_type": "markdown",
      "metadata": {
        "id": "DTbmyO-CK-8b"
      },
      "source": [
        "### Create the Colab Server\n",
        "\n",
        "\n",
        "\n",
        "In your Google Colab notebook, set up a TCP server that will receive frames, process them using the FACE_SWAPPER model, and send back the results."
      ]
    },
    {
      "cell_type": "code",
      "execution_count": 4,
      "metadata": {
        "colab": {
          "base_uri": "https://localhost:8080/"
        },
        "id": "P4xE5bpeosP_",
        "outputId": "7dca1dcc-2269-4ee7-a630-6b14ad64f46b"
      },
      "outputs": [
        {
          "output_type": "stream",
          "name": "stdout",
          "text": [
            "['CUDAExecutionProvider']\n",
            "download_path: /root/.insightface/models/buffalo_l\n",
            "Downloading /root/.insightface/models/buffalo_l.zip from https://github.com/deepinsight/insightface/releases/download/v0.7/buffalo_l.zip...\n"
          ]
        },
        {
          "output_type": "stream",
          "name": "stderr",
          "text": [
            "100%|██████████| 281857/281857 [00:02<00:00, 99338.84KB/s] \n"
          ]
        },
        {
          "output_type": "stream",
          "name": "stdout",
          "text": [
            "Applied providers: ['CUDAExecutionProvider', 'CPUExecutionProvider'], with options: {'CPUExecutionProvider': {}, 'CUDAExecutionProvider': {'sdpa_kernel': '0', 'use_tf32': '1', 'fuse_conv_bias': '0', 'prefer_nhwc': '0', 'tunable_op_max_tuning_duration_ms': '0', 'enable_skip_layer_norm_strict_mode': '0', 'tunable_op_tuning_enable': '0', 'tunable_op_enable': '0', 'use_ep_level_unified_stream': '0', 'device_id': '0', 'has_user_compute_stream': '0', 'gpu_external_empty_cache': '0', 'cudnn_conv_algo_search': 'EXHAUSTIVE', 'cudnn_conv1d_pad_to_nc1d': '0', 'gpu_mem_limit': '18446744073709551615', 'gpu_external_alloc': '0', 'gpu_external_free': '0', 'arena_extend_strategy': 'kNextPowerOfTwo', 'do_copy_in_default_stream': '1', 'enable_cuda_graph': '0', 'user_compute_stream': '0', 'cudnn_conv_use_max_workspace': '1'}}\n",
            "find model: /root/.insightface/models/buffalo_l/1k3d68.onnx landmark_3d_68 ['None', 3, 192, 192] 0.0 1.0\n",
            "Applied providers: ['CUDAExecutionProvider', 'CPUExecutionProvider'], with options: {'CPUExecutionProvider': {}, 'CUDAExecutionProvider': {'sdpa_kernel': '0', 'use_tf32': '1', 'fuse_conv_bias': '0', 'prefer_nhwc': '0', 'tunable_op_max_tuning_duration_ms': '0', 'enable_skip_layer_norm_strict_mode': '0', 'tunable_op_tuning_enable': '0', 'tunable_op_enable': '0', 'use_ep_level_unified_stream': '0', 'device_id': '0', 'has_user_compute_stream': '0', 'gpu_external_empty_cache': '0', 'cudnn_conv_algo_search': 'EXHAUSTIVE', 'cudnn_conv1d_pad_to_nc1d': '0', 'gpu_mem_limit': '18446744073709551615', 'gpu_external_alloc': '0', 'gpu_external_free': '0', 'arena_extend_strategy': 'kNextPowerOfTwo', 'do_copy_in_default_stream': '1', 'enable_cuda_graph': '0', 'user_compute_stream': '0', 'cudnn_conv_use_max_workspace': '1'}}\n",
            "find model: /root/.insightface/models/buffalo_l/2d106det.onnx landmark_2d_106 ['None', 3, 192, 192] 0.0 1.0\n",
            "Applied providers: ['CUDAExecutionProvider', 'CPUExecutionProvider'], with options: {'CPUExecutionProvider': {}, 'CUDAExecutionProvider': {'sdpa_kernel': '0', 'use_tf32': '1', 'fuse_conv_bias': '0', 'prefer_nhwc': '0', 'tunable_op_max_tuning_duration_ms': '0', 'enable_skip_layer_norm_strict_mode': '0', 'tunable_op_tuning_enable': '0', 'tunable_op_enable': '0', 'use_ep_level_unified_stream': '0', 'device_id': '0', 'has_user_compute_stream': '0', 'gpu_external_empty_cache': '0', 'cudnn_conv_algo_search': 'EXHAUSTIVE', 'cudnn_conv1d_pad_to_nc1d': '0', 'gpu_mem_limit': '18446744073709551615', 'gpu_external_alloc': '0', 'gpu_external_free': '0', 'arena_extend_strategy': 'kNextPowerOfTwo', 'do_copy_in_default_stream': '1', 'enable_cuda_graph': '0', 'user_compute_stream': '0', 'cudnn_conv_use_max_workspace': '1'}}\n",
            "find model: /root/.insightface/models/buffalo_l/det_10g.onnx detection [1, 3, '?', '?'] 127.5 128.0\n",
            "Applied providers: ['CUDAExecutionProvider', 'CPUExecutionProvider'], with options: {'CPUExecutionProvider': {}, 'CUDAExecutionProvider': {'sdpa_kernel': '0', 'use_tf32': '1', 'fuse_conv_bias': '0', 'prefer_nhwc': '0', 'tunable_op_max_tuning_duration_ms': '0', 'enable_skip_layer_norm_strict_mode': '0', 'tunable_op_tuning_enable': '0', 'tunable_op_enable': '0', 'use_ep_level_unified_stream': '0', 'device_id': '0', 'has_user_compute_stream': '0', 'gpu_external_empty_cache': '0', 'cudnn_conv_algo_search': 'EXHAUSTIVE', 'cudnn_conv1d_pad_to_nc1d': '0', 'gpu_mem_limit': '18446744073709551615', 'gpu_external_alloc': '0', 'gpu_external_free': '0', 'arena_extend_strategy': 'kNextPowerOfTwo', 'do_copy_in_default_stream': '1', 'enable_cuda_graph': '0', 'user_compute_stream': '0', 'cudnn_conv_use_max_workspace': '1'}}\n",
            "find model: /root/.insightface/models/buffalo_l/genderage.onnx genderage ['None', 3, 96, 96] 0.0 1.0\n",
            "Applied providers: ['CUDAExecutionProvider', 'CPUExecutionProvider'], with options: {'CPUExecutionProvider': {}, 'CUDAExecutionProvider': {'sdpa_kernel': '0', 'use_tf32': '1', 'fuse_conv_bias': '0', 'prefer_nhwc': '0', 'tunable_op_max_tuning_duration_ms': '0', 'enable_skip_layer_norm_strict_mode': '0', 'tunable_op_tuning_enable': '0', 'tunable_op_enable': '0', 'use_ep_level_unified_stream': '0', 'device_id': '0', 'has_user_compute_stream': '0', 'gpu_external_empty_cache': '0', 'cudnn_conv_algo_search': 'EXHAUSTIVE', 'cudnn_conv1d_pad_to_nc1d': '0', 'gpu_mem_limit': '18446744073709551615', 'gpu_external_alloc': '0', 'gpu_external_free': '0', 'arena_extend_strategy': 'kNextPowerOfTwo', 'do_copy_in_default_stream': '1', 'enable_cuda_graph': '0', 'user_compute_stream': '0', 'cudnn_conv_use_max_workspace': '1'}}\n",
            "find model: /root/.insightface/models/buffalo_l/w600k_r50.onnx recognition ['None', 3, 112, 112] 127.5 127.5\n",
            "set det-size: (640, 640)\n"
          ]
        }
      ],
      "source": [
        "import socket\n",
        "import cv2\n",
        "import numpy as np\n",
        "import insightface\n",
        "import threading\n",
        "import torch\n",
        "import onnxruntime\n",
        "from typing import Any\n",
        "from insightface.app.common import Face\n",
        "import matplotlib.pyplot as plt\n",
        "# Check if CUDA is available\n",
        "if 'CUDAExecutionProvider' in onnxruntime.get_available_providers():\n",
        "    providers = ['CUDAExecutionProvider']\n",
        "elif 'TensorrtExecutionProvider'  in onnxruntime.get_available_providers():\n",
        "    providers = ['TensorrtExecutionProvider']\n",
        "else:\n",
        "    providers = ['CPUExecutionProvider']\n",
        "print(providers)\n",
        "FACE_SWAPPER = None\n",
        "FACE_ANALYSER = insightface.app.FaceAnalysis(name='buffalo_l', providers=providers)\n",
        "FACE_ANALYSER.prepare(ctx_id=0, det_size=(640, 640))\n",
        "THREAD_LOCK = threading.Lock()\n",
        "Frame = np.ndarray[Any, Any]\n",
        "def get_face_swapper() -> Any:\n",
        "    global FACE_SWAPPER\n",
        "    with THREAD_LOCK:\n",
        "        if FACE_SWAPPER is None:\n",
        "            model_path = \"/content/deepfakecollab/Model/inswapper_128.onnx\"\n",
        "            FACE_SWAPPER = insightface.model_zoo.get_model(model_path, providers=['CUDAExecutionProvider'])\n",
        "    return FACE_SWAPPER\n",
        "def swap_face(source_face: Face, target_face: Face, temp_frame: Frame) -> Frame:\n",
        "    return get_face_swapper().get(temp_frame, target_face, source_face, paste_back=True)\n",
        "def get_face_analyser() -> Any:\n",
        "    #FACE_ANALYSER.prepare(ctx_id=0, det_size=(640, 640))\n",
        "    return FACE_ANALYSER\n",
        "def get_one_face(frame: Frame) -> Any:\n",
        "    face = get_face_analyser().get(frame)\n",
        "    try:\n",
        "        return min(face, key=lambda x: x.bbox[0])\n",
        "    except ValueError:\n",
        "        return None\n",
        "def get_many_faces(frame: Frame) -> Any:\n",
        "    try:\n",
        "        return get_face_analyser().get(frame)\n",
        "    except IndexError:\n",
        "        return None\n",
        "def process_frame(source_face: Face, temp_frame: Frame,manyface: bool) -> Frame:\n",
        "    if manyface:\n",
        "        many_faces = get_many_faces(temp_frame)\n",
        "        if many_faces:\n",
        "            for target_face in many_faces:\n",
        "                temp_frame = swap_face(source_face, target_face, temp_frame)\n",
        "    else:\n",
        "        target_face = get_one_face(temp_frame)\n",
        "        if target_face:\n",
        "            temp_frame = swap_face(source_face, target_face, temp_frame)\n",
        "    return temp_frame\n",
        "# Input and output ports for communication\n",
        "# @title Streaming Ports\n",
        "local_in_source = 5555 # @param {\"type\":\"integer\",\"placeholder\":\"5555\"}\n",
        "local_in_temp = 5556 # @param {\"type\":\"integer\",\"placeholder\":\"5556\"}\n",
        "local_out_frame = 5557 # @param {\"type\":\"integer\",\"placeholder\":\"5557\"}"
      ]
    },
    {
      "cell_type": "markdown",
      "metadata": {
        "id": "FehUyVNvGGgZ"
      },
      "source": [
        "\n",
        "\n",
        "For Live Streaming from webcam run this cell but for just image swap run the next cell.\n",
        "\n",
        "\n",
        "\n",
        "Note: Don't run both cells at same time. You should either run this or the one below\n",
        "\n",
        "\n"
      ]
    },
    {
      "cell_type": "markdown",
      "metadata": {
        "id": "f0h23Yq5Won-"
      },
      "source": [
        "Set your region\n",
        "\n",
        "\n",
        "\n",
        "Code | Region\n",
        "\n",
        "--- | ---\n",
        "\n",
        "us | United States\n",
        "\n",
        "eu | Europe\n",
        "\n",
        "ap | Asia/Pacific\n",
        "\n",
        "au | Australia\n",
        "\n",
        "sa | South America\n",
        "\n",
        "jp | Japan\n",
        "\n",
        "in | India"
      ]
    },
    {
      "cell_type": "code",
      "execution_count": 7,
      "metadata": {
        "cellView": "form",
        "colab": {
          "base_uri": "https://localhost:8080/",
          "height": 321
        },
        "id": "VYQRVPsdxizn",
        "outputId": "e776393d-8459-4dd1-f06b-fe00bbf1a837"
      },
      "outputs": [
        {
          "output_type": "error",
          "ename": "ZMQError",
          "evalue": "Address already in use",
          "traceback": [
            "\u001b[0;31m---------------------------------------------------------------------------\u001b[0m",
            "\u001b[0;31mZMQError\u001b[0m                                  Traceback (most recent call last)",
            "\u001b[0;32m<ipython-input-7-3479544003>\u001b[0m in \u001b[0;36m<cell line: 0>\u001b[0;34m()\u001b[0m\n\u001b[1;32m    207\u001b[0m         \u001b[0mffmpeg_encode_process\u001b[0m\u001b[0;34m.\u001b[0m\u001b[0mterminate\u001b[0m\u001b[0;34m(\u001b[0m\u001b[0;34m)\u001b[0m\u001b[0;34m\u001b[0m\u001b[0;34m\u001b[0m\u001b[0m\n\u001b[1;32m    208\u001b[0m \u001b[0;31m# Create sockets\u001b[0m\u001b[0;34m\u001b[0m\u001b[0;34m\u001b[0m\u001b[0m\n\u001b[0;32m--> 209\u001b[0;31m \u001b[0mpull_socket\u001b[0m \u001b[0;34m=\u001b[0m \u001b[0mpull_socket\u001b[0m\u001b[0;34m(\u001b[0m\u001b[0mlocal_in_source\u001b[0m\u001b[0;34m)\u001b[0m\u001b[0;34m\u001b[0m\u001b[0;34m\u001b[0m\u001b[0m\n\u001b[0m\u001b[1;32m    210\u001b[0m \u001b[0;31m# Run both workers in separate threads\u001b[0m\u001b[0;34m\u001b[0m\u001b[0;34m\u001b[0m\u001b[0m\n\u001b[1;32m    211\u001b[0m \u001b[0;31m# Start the pull worker thread\u001b[0m\u001b[0;34m\u001b[0m\u001b[0;34m\u001b[0m\u001b[0m\n",
            "\u001b[0;32m<ipython-input-7-3479544003>\u001b[0m in \u001b[0;36mpull_socket\u001b[0;34m(local_in_port)\u001b[0m\n\u001b[1;32m     43\u001b[0m     \u001b[0msocket\u001b[0m\u001b[0;34m.\u001b[0m\u001b[0msetsockopt\u001b[0m\u001b[0;34m(\u001b[0m\u001b[0mzmq\u001b[0m\u001b[0;34m.\u001b[0m\u001b[0mLINGER\u001b[0m\u001b[0;34m,\u001b[0m \u001b[0;36m0\u001b[0m\u001b[0;34m)\u001b[0m\u001b[0;34m\u001b[0m\u001b[0;34m\u001b[0m\u001b[0m\n\u001b[1;32m     44\u001b[0m     \u001b[0maddress\u001b[0m \u001b[0;34m=\u001b[0m \u001b[0;34mf\"tcp://127.0.0.1:{local_in_port}\"\u001b[0m\u001b[0;34m\u001b[0m\u001b[0;34m\u001b[0m\u001b[0m\n\u001b[0;32m---> 45\u001b[0;31m     \u001b[0msocket\u001b[0m\u001b[0;34m.\u001b[0m\u001b[0mbind\u001b[0m\u001b[0;34m(\u001b[0m\u001b[0maddress\u001b[0m\u001b[0;34m)\u001b[0m  \u001b[0;31m# Binding to a different local port\u001b[0m\u001b[0;34m\u001b[0m\u001b[0;34m\u001b[0m\u001b[0m\n\u001b[0m\u001b[1;32m     46\u001b[0m     \u001b[0mprint\u001b[0m\u001b[0;34m(\u001b[0m\u001b[0;34mf\"PULL one socket bound to {address}\"\u001b[0m\u001b[0;34m)\u001b[0m\u001b[0;34m\u001b[0m\u001b[0;34m\u001b[0m\u001b[0m\n\u001b[1;32m     47\u001b[0m     \u001b[0;32mreturn\u001b[0m \u001b[0msocket\u001b[0m\u001b[0;34m\u001b[0m\u001b[0;34m\u001b[0m\u001b[0m\n",
            "\u001b[0;32m/usr/local/lib/python3.11/dist-packages/zmq/sugar/socket.py\u001b[0m in \u001b[0;36mbind\u001b[0;34m(self, addr)\u001b[0m\n\u001b[1;32m    230\u001b[0m \u001b[0;34m\u001b[0m\u001b[0m\n\u001b[1;32m    231\u001b[0m         \"\"\"\n\u001b[0;32m--> 232\u001b[0;31m         \u001b[0msuper\u001b[0m\u001b[0;34m(\u001b[0m\u001b[0;34m)\u001b[0m\u001b[0;34m.\u001b[0m\u001b[0mbind\u001b[0m\u001b[0;34m(\u001b[0m\u001b[0maddr\u001b[0m\u001b[0;34m)\u001b[0m\u001b[0;34m\u001b[0m\u001b[0;34m\u001b[0m\u001b[0m\n\u001b[0m\u001b[1;32m    233\u001b[0m         \u001b[0;32mreturn\u001b[0m \u001b[0mself\u001b[0m\u001b[0;34m.\u001b[0m\u001b[0m_bind_cm\u001b[0m\u001b[0;34m(\u001b[0m\u001b[0maddr\u001b[0m\u001b[0;34m)\u001b[0m\u001b[0;34m\u001b[0m\u001b[0;34m\u001b[0m\u001b[0m\n\u001b[1;32m    234\u001b[0m \u001b[0;34m\u001b[0m\u001b[0m\n",
            "\u001b[0;32mzmq/backend/cython/socket.pyx\u001b[0m in \u001b[0;36mzmq.backend.cython.socket.Socket.bind\u001b[0;34m()\u001b[0m\n",
            "\u001b[0;32m/usr/local/lib/python3.11/dist-packages/zmq/backend/cython/checkrc.pxd\u001b[0m in \u001b[0;36mzmq.backend.cython.checkrc._check_rc\u001b[0;34m()\u001b[0m\n",
            "\u001b[0;31mZMQError\u001b[0m: Address already in use"
          ]
        }
      ],
      "source": [
        "import zmq\n",
        "import threading\n",
        "import cv2\n",
        "import numpy as np\n",
        "import msgpack\n",
        "import queue\n",
        "import time\n",
        "import zlib\n",
        "from tqdm import tqdm\n",
        "import subprocess\n",
        "from collections import deque\n",
        "from concurrent.futures import ThreadPoolExecutor, as_completed\n",
        "from collections import deque\n",
        "# Input and output ports for communication\n",
        "# @title Streaming Ports\n",
        "local_in_source = 5555 # @param {\"type\":\"integer\",\"placeholder\":\"5555\"}\n",
        "local_in_temp = 5556 # @param {\"type\":\"integer\",\"placeholder\":\"5556\"}\n",
        "local_out_frame = 5557 # @param {\"type\":\"integer\",\"placeholder\":\"5557\"}\n",
        "# @title [Optional] For Live Streaming\n",
        "authtoken = \"\" # @param {\"type\":\"string\",\"placeholder\":\"ngrok token\"}\n",
        "region = \"eu\"# @param {\"type\":\"string\",\"placeholder\":\"eu\"}\n",
        "TimeFrate = 120 # @param {\"type\":\"integer\",\"placeholder\":\"120\"}\n",
        "GOP = \"60\" # @param {\"type\":\"string\",\"placeholder\":\"60\"}\n",
        "Bitrate = \"3M\" # @param {\"type\":\"string\",\"placeholder\":\"3M\"}\n",
        "Maxrate = \"3M\" # @param {\"type\":\"string\",\"placeholder\":\"3M\"}\n",
        "Bufsize = \"5M\" # @param {\"type\":\"string\",\"placeholder\":\"5M\"}\n",
        "# Initialize the executor with the number of workers\n",
        "executor = ThreadPoolExecutor(max_workers=4)  # Adjust based on your CPU cores\n",
        "# Batch size - tune this based on available resources and processing time per frame\n",
        "BATCH_SIZE = 120\n",
        "# Holds future results for parallel processing\n",
        "future_to_batch = {}\n",
        "#import matplotlib.pyplot as plt\n",
        "def create_demo_image():\n",
        "    # Create a demo image (e.g., a solid color or pattern)\n",
        "    demo_image = np.zeros((540, 960, 3), dtype=np.uint8)  # Black image\n",
        "    cv2.putText(demo_image, 'Demo Image', (50, 240), cv2.FONT_HERSHEY_SIMPLEX, 1, (0, 255, 0), 2, cv2.LINE_AA)\n",
        "    return demo_image\n",
        "def pull_socket(local_in_port):\n",
        "    context = zmq.Context()\n",
        "    socket = context.socket(zmq.REP)\n",
        "    socket.setsockopt(zmq.RCVHWM, 100000)\n",
        "    socket.setsockopt(zmq.LINGER, 0)\n",
        "    address = f\"tcp://127.0.0.1:{local_in_port}\"\n",
        "    socket.bind(address)  # Binding to a different local port\n",
        "    print(f\"PULL one socket bound to {address}\")\n",
        "    return socket\n",
        "# Compress image\n",
        "def compress_image(image, quality=95):\n",
        "    # Set the JPEG quality parameter\n",
        "    encode_param = [int(cv2.IMWRITE_JPEG_QUALITY), quality]\n",
        "    # Encode the image as a JPEG\n",
        "    result, encimg = cv2.imencode('.jpg', image, encode_param)\n",
        "    if not result:\n",
        "        raise Exception(\"Image encoding failed\")\n",
        "    # Decode the encoded image back to an image format\n",
        "    decimg = cv2.imdecode(encimg, 1)\n",
        "    return decimg\n",
        "# Decompress image\n",
        "def decompress_image(encimg):\n",
        "    image = cv2.imdecode(np.frombuffer(encimg, np.uint8), cv2.IMREAD_COLOR)\n",
        "    return image\n",
        "# Global variables\n",
        "frames_array=deque(maxlen=2000)\n",
        "temp_frames_array=deque(maxlen=2000)\n",
        "source_frame = None\n",
        "is_manyFace = None\n",
        "frameSize = '960x540'\n",
        "fps = None\n",
        "# Process a batch of frames simultaneously\n",
        "# Function to process each frame\n",
        "def process_frame_parallel(source, frame, many_face):\n",
        "    return process_frame(get_one_face(source), frame, many_face)\n",
        "\n",
        "def pull_worker(pull_socket):\n",
        "    global source_frame,is_manyFace,frameSize,fps\n",
        "    while True:\n",
        "        try:\n",
        "            # Receive the JSON with total chunks\n",
        "            meta_data_json = pull_socket.recv_json()\n",
        "            #print(meta_data_json)\n",
        "            total_chunk = meta_data_json['total_chunk']\n",
        "            # Send acknowledgment for metadata\n",
        "            pull_socket.send_string(\"ACK\")\n",
        "            # Receive the array bytes\n",
        "            source_array_bytes =b''\n",
        "            for i in range(total_chunk):\n",
        "                chunk = pull_socket.recv()\n",
        "                source_array_bytes += chunk\n",
        "                pull_socket.send_string(f\"ACK {i + 1}/{total_chunk}\")\n",
        "            end_message = pull_socket.recv()\n",
        "            if end_message == b\"END\":\n",
        "                pull_socket.send_string(\"Final ACK\")\n",
        "\n",
        "            # Deserialize the bytes back to an ndarray\n",
        "            source_array = np.frombuffer(source_array_bytes, dtype=np.dtype(meta_data_json['dtype_source'])).reshape(meta_data_json['shape_source'])\n",
        "            source_frame = source_array\n",
        "            is_manyFace = meta_data_json['manyface']\n",
        "            frameSize =  meta_data_json['size']\n",
        "            fps = meta_data_json[\"fps\"]\n",
        "                #process_queue.put((\"source\", source_array))\n",
        "            break\n",
        "        except zmq.Again:\n",
        "            # Sleep briefly to avoid busy-waiting\n",
        "            time.sleep(0.01)\n",
        "        except Exception as e:\n",
        "            print(f\"Error: {e}\")\n",
        "def pull_worker_two(local_in_temp):\n",
        "    ffmpeg_receive_command =  [\n",
        "        'ffmpeg',\n",
        "        '-i',f'tcp://127.0.0.1:{local_in_temp}?listen&fifo_size=100000&overrun_nonfatal=1',\n",
        "        '-f','rawvideo',\n",
        "        '-pix_fmt','bgr24',\n",
        "        '-s','960x540',\n",
        "        'pipe:1'\n",
        "    ]\n",
        "    ffmpeg_receive_process = subprocess.Popen((ffmpeg_receive_command), stdout=subprocess.PIPE)\n",
        "    timefame =1/25\n",
        "    print(f\"InputStream ffmpeg bound from tcp://127.0.0.1:{local_in_temp}?listen\")\n",
        "    global source_frame,is_manyFace\n",
        "    future_to_frame = {}\n",
        "    while True:\n",
        "        try:\n",
        "            # Receive the JSON with total chunks\n",
        "            # Read decoded frame from FFmpeg\n",
        "            raw_frame = ffmpeg_receive_process.stdout.read(960 * 540 * 3)\n",
        "            if not raw_frame:\n",
        "                break\n",
        "            framex = np.frombuffer(raw_frame, dtype=np.uint8).reshape((540, 960, 3))\n",
        "            source_array = source_frame\n",
        "            is_many_face = is_manyFace\n",
        "            temp_frames_array.append(framex)\n",
        "            if source_frame is not None:\n",
        "                while len(temp_frames_array)>1:\n",
        "                    t_frames = temp_frames_array[-1]\n",
        "                    frames_array.append(t_frames)\n",
        "                    temp_frames_array.popleft()\n",
        "        except zmq.Again:\n",
        "            # Sleep briefly to avoid busy-waiting\n",
        "            time.sleep(0.01)\n",
        "        except Exception as e:\n",
        "            print(f\"Error: {e}\")\n",
        "def push_worker(local_out_frame):\n",
        "    source_array = None\n",
        "    temp_array = None\n",
        "    is_many_face = None\n",
        "    timefrate = TimeFrate\n",
        "    maxcount = 0\n",
        "    global source_frame,is_manyFace,frameSize,fps\n",
        "    print(f\"OutputStream ffmpeg bound to tcp://127.0.0.1:{local_out_frame}?listen\")\n",
        "    ffmpeg_encode_command = [\n",
        "        'ffmpeg',\n",
        "        '-fflags','+nobuffer',\n",
        "        '-flags', 'low_delay',\n",
        "        '-probesize', '32',\n",
        "        '-f', 'rawvideo',\n",
        "        '-pix_fmt', 'bgr24',\n",
        "        '-s', '960x540',\n",
        "        '-r', str(timefrate),\n",
        "        '-i', 'pipe:',\n",
        "        '-c:v', 'libx264',  # Enable encoding for lower bandwidth usage\n",
        "        '-preset', 'ultrafast',  # Fast encoding to reduce latency\n",
        "        '-tune', 'zerolatency',  # Low latency setting\n",
        "        '-g', GOP,#'60',  # GOP size set to 1 to make each frame a keyframe\n",
        "        '-b:v', Bitrate,#'3000k',  # Set bitrate to 1 Mbps\n",
        "        '-maxrate', Maxrate,#'3000k',\n",
        "        '-bufsize', Bufsize,#'5000k',\n",
        "        '-threads', '8',  # Enable threading\n",
        "        '-f', 'mpegts',\n",
        "        f'tcp://127.0.0.1:{local_out_frame}?listen&fifo_size=50000&overrun_nonfatal=1'\n",
        "    ]\n",
        "    timefame =1/timefrate\n",
        "    ffmpeg_encode_process = subprocess.Popen((ffmpeg_encode_command), stdin=subprocess.PIPE)\n",
        "    demo_image = create_demo_image()\n",
        "    frames_to_skip = 200  # Number of frames to skip to reduce delay\n",
        "    frame_count =0\n",
        "    wait_frame = 0\n",
        "    try:\n",
        "        while True:\n",
        "            # Get the processed array and metadata from the queue\n",
        "            if len(frames_array)>wait_frame:\n",
        "                if wait_frame<timefrate:\n",
        "                    wait_frame += 1\n",
        "                    #timefrate -=1\n",
        "\n",
        "                temp_array = frames_array[-1]#frames_array.popleft()#process_queue.get()\n",
        "                source_array = source_frame\n",
        "                is_many_face = is_manyFace\n",
        "                #framex = temp_array\n",
        "                #print(source_array,temp_array)\n",
        "                processed_array = process_frame(get_one_face(source_frame),temp_array,is_manyFace)\n",
        "                framex = processed_array\n",
        "                '''\n",
        "                if source_frame is not None: #and temp_array is not None:\n",
        "                    source_array = None\n",
        "                    temp_array = None\n",
        "                    is_many_face = None\n",
        "\n",
        "                '''\n",
        "            else:\n",
        "                framex = demo_image\n",
        "                # Write the frame to FFmpeg for encoding and streaming\n",
        "            ffmpeg_encode_process.stdin.write(framex.tobytes())\n",
        "            time.sleep(timefame)\n",
        "    finally:\n",
        "    #ffmpeg_receive_process.terminate()\n",
        "        ffmpeg_encode_process.terminate()\n",
        "# Create sockets\n",
        "pull_socket = pull_socket(local_in_source)\n",
        "# Run both workers in separate threads\n",
        "# Start the pull worker thread\n",
        "pull_thread = threading.Thread(target=pull_worker, args=(pull_socket,))\n",
        "pull_thread.start()\n",
        "# Start the push worker thread\n",
        "pull_thread_two = threading.Thread(target=pull_worker_two, args=(local_in_temp,))\n",
        "pull_thread_two.start()\n",
        "# Start the push worker thread\n",
        "push_thread = threading.Thread(target=push_worker,args=(local_out_frame,))\n",
        "push_thread.start()"
      ]
    },
    {
      "cell_type": "markdown",
      "metadata": {
        "id": "Eb_cbyoaHKrT"
      },
      "source": [
        "\n",
        "\n",
        "For image swapping run this cell.\n",
        "\n",
        "\n",
        "\n",
        "Note: You can not run both cell at same time. Either This or The cell Above (For Live Streaming)"
      ]
    },
    {
      "cell_type": "code",
      "execution_count": 13,
      "metadata": {
        "cellView": "form",
        "id": "A_nrCfTpHWS4",
        "colab": {
          "base_uri": "https://localhost:8080/",
          "height": 321
        },
        "outputId": "ecf6f93e-22d5-416f-c3e2-4273b1e559b7"
      },
      "outputs": [
        {
          "output_type": "error",
          "ename": "ZMQError",
          "evalue": "Address already in use",
          "traceback": [
            "\u001b[0;31m---------------------------------------------------------------------------\u001b[0m",
            "\u001b[0;31mZMQError\u001b[0m                                  Traceback (most recent call last)",
            "\u001b[0;32m<ipython-input-13-3557274281>\u001b[0m in \u001b[0;36m<cell line: 0>\u001b[0;34m()\u001b[0m\n\u001b[1;32m    173\u001b[0m \u001b[0mlocal_out_frame\u001b[0m \u001b[0;34m=\u001b[0m \u001b[0;36m5557\u001b[0m \u001b[0;31m# @param {\"type\":\"integer\",\"placeholder\":\"5557\"}\u001b[0m\u001b[0;34m\u001b[0m\u001b[0;34m\u001b[0m\u001b[0m\n\u001b[1;32m    174\u001b[0m \u001b[0;31m# Create sockets\u001b[0m\u001b[0;34m\u001b[0m\u001b[0;34m\u001b[0m\u001b[0m\n\u001b[0;32m--> 175\u001b[0;31m \u001b[0mpull_socket_\u001b[0m \u001b[0;34m=\u001b[0m \u001b[0mpull_socket\u001b[0m\u001b[0;34m(\u001b[0m\u001b[0mlocal_in_source\u001b[0m\u001b[0;34m)\u001b[0m\u001b[0;34m\u001b[0m\u001b[0;34m\u001b[0m\u001b[0m\n\u001b[0m\u001b[1;32m    176\u001b[0m \u001b[0mpull_socket_two\u001b[0m \u001b[0;34m=\u001b[0m \u001b[0mpull_socket\u001b[0m\u001b[0;34m(\u001b[0m\u001b[0mlocal_in_temp\u001b[0m\u001b[0;34m)\u001b[0m\u001b[0;34m\u001b[0m\u001b[0;34m\u001b[0m\u001b[0m\n\u001b[1;32m    177\u001b[0m \u001b[0mpush_socket_\u001b[0m \u001b[0;34m=\u001b[0m \u001b[0mpush_socket\u001b[0m\u001b[0;34m(\u001b[0m\u001b[0mlocal_out_frame\u001b[0m\u001b[0;34m)\u001b[0m\u001b[0;34m\u001b[0m\u001b[0;34m\u001b[0m\u001b[0m\n",
            "\u001b[0;32m<ipython-input-13-3557274281>\u001b[0m in \u001b[0;36mpull_socket\u001b[0;34m(local_in_port)\u001b[0m\n\u001b[1;32m     27\u001b[0m     \u001b[0msocket\u001b[0m\u001b[0;34m.\u001b[0m\u001b[0msetsockopt\u001b[0m\u001b[0;34m(\u001b[0m\u001b[0mzmq\u001b[0m\u001b[0;34m.\u001b[0m\u001b[0mLINGER\u001b[0m\u001b[0;34m,\u001b[0m \u001b[0;36m0\u001b[0m\u001b[0;34m)\u001b[0m\u001b[0;34m\u001b[0m\u001b[0;34m\u001b[0m\u001b[0m\n\u001b[1;32m     28\u001b[0m     \u001b[0maddress\u001b[0m \u001b[0;34m=\u001b[0m \u001b[0;34mf\"tcp://127.0.0.1:{local_in_port}\"\u001b[0m\u001b[0;34m\u001b[0m\u001b[0;34m\u001b[0m\u001b[0m\n\u001b[0;32m---> 29\u001b[0;31m     \u001b[0msocket\u001b[0m\u001b[0;34m.\u001b[0m\u001b[0mbind\u001b[0m\u001b[0;34m(\u001b[0m\u001b[0maddress\u001b[0m\u001b[0;34m)\u001b[0m  \u001b[0;31m# Binding to a different local port\u001b[0m\u001b[0;34m\u001b[0m\u001b[0;34m\u001b[0m\u001b[0m\n\u001b[0m\u001b[1;32m     30\u001b[0m     \u001b[0mprint\u001b[0m\u001b[0;34m(\u001b[0m\u001b[0;34mf\"PULL one socket bound to {address}\"\u001b[0m\u001b[0;34m)\u001b[0m\u001b[0;34m\u001b[0m\u001b[0;34m\u001b[0m\u001b[0m\n\u001b[1;32m     31\u001b[0m     \u001b[0;32mreturn\u001b[0m \u001b[0msocket\u001b[0m\u001b[0;34m\u001b[0m\u001b[0;34m\u001b[0m\u001b[0m\n",
            "\u001b[0;32m/usr/local/lib/python3.11/dist-packages/zmq/sugar/socket.py\u001b[0m in \u001b[0;36mbind\u001b[0;34m(self, addr)\u001b[0m\n\u001b[1;32m    230\u001b[0m \u001b[0;34m\u001b[0m\u001b[0m\n\u001b[1;32m    231\u001b[0m         \"\"\"\n\u001b[0;32m--> 232\u001b[0;31m         \u001b[0msuper\u001b[0m\u001b[0;34m(\u001b[0m\u001b[0;34m)\u001b[0m\u001b[0;34m.\u001b[0m\u001b[0mbind\u001b[0m\u001b[0;34m(\u001b[0m\u001b[0maddr\u001b[0m\u001b[0;34m)\u001b[0m\u001b[0;34m\u001b[0m\u001b[0;34m\u001b[0m\u001b[0m\n\u001b[0m\u001b[1;32m    233\u001b[0m         \u001b[0;32mreturn\u001b[0m \u001b[0mself\u001b[0m\u001b[0;34m.\u001b[0m\u001b[0m_bind_cm\u001b[0m\u001b[0;34m(\u001b[0m\u001b[0maddr\u001b[0m\u001b[0;34m)\u001b[0m\u001b[0;34m\u001b[0m\u001b[0;34m\u001b[0m\u001b[0m\n\u001b[1;32m    234\u001b[0m \u001b[0;34m\u001b[0m\u001b[0m\n",
            "\u001b[0;32mzmq/backend/cython/socket.pyx\u001b[0m in \u001b[0;36mzmq.backend.cython.socket.Socket.bind\u001b[0;34m()\u001b[0m\n",
            "\u001b[0;32m/usr/local/lib/python3.11/dist-packages/zmq/backend/cython/checkrc.pxd\u001b[0m in \u001b[0;36mzmq.backend.cython.checkrc._check_rc\u001b[0;34m()\u001b[0m\n",
            "\u001b[0;31mZMQError\u001b[0m: Address already in use"
          ]
        }
      ],
      "source": [
        "# @title [Optional] For Image Swap\n",
        "import zmq\n",
        "import threading\n",
        "import cv2\n",
        "import numpy as np\n",
        "import msgpack\n",
        "import queue\n",
        "import time\n",
        "import zlib\n",
        "from tqdm import tqdm\n",
        "import subprocess\n",
        "from collections import deque\n",
        "import matplotlib as plt\n",
        "def push_socket(local_out_port):\n",
        "    context = zmq.Context()\n",
        "    socket = context.socket(zmq.REQ)\n",
        "    socket.setsockopt(zmq.SNDHWM, 100000)\n",
        "    socket.setsockopt(zmq.LINGER, 0)\n",
        "    address = f\"tcp://127.0.0.1:{local_out_port}\"\n",
        "    socket.bind(address)  # Binding to a local port\n",
        "    print(f\"PUSH socket bound to {address}\")\n",
        "    return socket\n",
        "def pull_socket(local_in_port):\n",
        "    context = zmq.Context()\n",
        "    socket = context.socket(zmq.REP)\n",
        "    socket.setsockopt(zmq.RCVHWM, 100000)\n",
        "    socket.setsockopt(zmq.LINGER, 0)\n",
        "    address = f\"tcp://127.0.0.1:{local_in_port}\"\n",
        "    socket.bind(address)  # Binding to a different local port\n",
        "    print(f\"PULL one socket bound to {address}\")\n",
        "    return socket\n",
        "# Compress image\n",
        "def compress_image(image, quality=95):\n",
        "    # Set the JPEG quality parameter\n",
        "    encode_param = [int(cv2.IMWRITE_JPEG_QUALITY), quality]\n",
        "    # Encode the image as a JPEG\n",
        "    result, encimg = cv2.imencode('.jpg', image, encode_param)\n",
        "    if not result:\n",
        "        raise Exception(\"Image encoding failed\")\n",
        "    # Decode the encoded image back to an image format\n",
        "    decimg = cv2.imdecode(encimg, 1)\n",
        "    return decimg\n",
        "# Decompress image\n",
        "def decompress_image(encimg):\n",
        "    image = cv2.imdecode(np.frombuffer(encimg, np.uint8), cv2.IMREAD_COLOR)\n",
        "    return image\n",
        "# Global variables\n",
        "frames_array=deque(maxlen=2000)\n",
        "source_frame = None\n",
        "is_manyFace = None\n",
        "frameSize = '640x480'\n",
        "fps = None\n",
        "#functions\n",
        "def pull_worker(pull_socket):\n",
        "    global source_frame,is_manyFace,frameSize,fps\n",
        "    while True:\n",
        "        try:\n",
        "            # Receive the JSON with total chunks\n",
        "            meta_data_json = pull_socket.recv_json()\n",
        "            #print(meta_data_json)\n",
        "            total_chunk = meta_data_json['total_chunk']\n",
        "            # Send acknowledgment for metadata\n",
        "            pull_socket.send_string(\"ACK\")\n",
        "            # Receive the array bytes\n",
        "            source_array_bytes =b''\n",
        "            for i in range(total_chunk):\n",
        "                chunk = pull_socket.recv()\n",
        "                source_array_bytes += chunk\n",
        "                pull_socket.send_string(f\"ACK {i + 1}/{total_chunk}\")\n",
        "            end_message = pull_socket.recv()\n",
        "            if end_message == b\"END\":\n",
        "                pull_socket.send_string(\"Final ACK\")\n",
        "            # Deserialize the bytes back to an ndarray\n",
        "            source_array = np.frombuffer(source_array_bytes, dtype=np.dtype(meta_data_json['dtype_source'])).reshape(meta_data_json['shape_source'])\n",
        "            #plt.imshow(source_array[:, :, ::-1])\n",
        "            #plt.show()\n",
        "            #frame_queue.append([\"source\", source_array])\n",
        "            source_frame = source_array\n",
        "            is_manyFace = meta_data_json['manyface']\n",
        "            frames_array.append([\"source\",source_array,is_manyFace])\n",
        "                #process_queue.put((\"source\", source_array))\n",
        "            #break\n",
        "        except zmq.Again:\n",
        "            # Sleep briefly to avoid busy-waiting\n",
        "            time.sleep(0.01)\n",
        "        except Exception as e:\n",
        "            print(f\"Error: {e}\")\n",
        "def pull_worker_two(pull_socket_two):\n",
        "    while True:\n",
        "        try:\n",
        "           # Receive the JSON with total chunks\n",
        "            meta_data_json = pull_socket_two.recv_json()\n",
        "            #print(meta_data_json)\n",
        "            total_chunk = meta_data_json['total_chunk']\n",
        "            # Send acknowledgment for metadata\n",
        "            pull_socket_two.send_string(\"ACK\")\n",
        "            # Receive the array bytes\n",
        "            temp_array_bytes =b''\n",
        "            for i in range(total_chunk):\n",
        "                chunk = pull_socket_two.recv()\n",
        "                temp_array_bytes += chunk\n",
        "                pull_socket_two.send_string(f\"ACK {i + 1}/{total_chunk}\")\n",
        "            end_message = pull_socket_two.recv()\n",
        "            if end_message == b\"END\":\n",
        "                pull_socket_two.send_string(\"Final ACK\")\n",
        "            # Deserialize the bytes back to an ndarray\n",
        "            temp_array = np.frombuffer(temp_array_bytes, dtype=np.dtype(meta_data_json['dtype_temp'])).reshape(meta_data_json['shape_temp'])\n",
        "            #if source_frame is not None:\n",
        "            frames_array.append([\"temp\",temp_array])\n",
        "            print(\"added\",len(frames_array))\n",
        "            #break\n",
        "        except zmq.Again:\n",
        "            # Sleep briefly to avoid busy-waiting\n",
        "            time.sleep(0.01)\n",
        "        except Exception as e:\n",
        "            print(f\"Error: {e}\")\n",
        "def push_worker(push_socket):\n",
        "    global source_frame,is_manyFace,frameSize,fps\n",
        "    temp_frm = None\n",
        "    source_frm = None\n",
        "    is_manyface = None\n",
        "    try:\n",
        "        while True:\n",
        "            # Get the processed array and metadata from the queue\n",
        "            if len(frames_array)>0:\n",
        "                #print(frames_array)\n",
        "                item = frames_array.popleft()#process_queue.get()\n",
        "                if item[0]==\"source\":\n",
        "                    source_frm = item[1]\n",
        "                    is_manyface = item[2]\n",
        "                if item[0]==\"temp\":\n",
        "                    temp_frm = item[1]\n",
        "                    print(\"Recieved\")\n",
        "                if temp_frm is not None and source_frm is not None:\n",
        "                    processed_frm =process_frame(get_one_face(source_frm),temp_frm,is_manyface)\n",
        "                    face_bytes = processed_frm.tobytes()\n",
        "                    chunk_size = 1024*200\n",
        "                    total_chunk = len(face_bytes) // chunk_size + 1\n",
        "                    metadata ={\n",
        "                        'dtype_source':str(processed_frm.dtype),\n",
        "                        'shape_source':processed_frm.shape,\n",
        "                        'size':'640x480',\n",
        "                        'fps':'60'\n",
        "                        #'shape_temp':temp_frame.shape\n",
        "                    }\n",
        "                    new_metadata = {'total_chunk': total_chunk}\n",
        "                    metadata.update(new_metadata)\n",
        "                    # Send metadata first\n",
        "                    push_socket.send_json(metadata)\n",
        "                    # Wait for acknowledgment for metadata\n",
        "                    ack = push_socket.recv_string()\n",
        "                    with tqdm(total=total_chunk, desc=\"Sending chunks\", unit=\"chunk\") as pbar:\n",
        "                        for i in range(total_chunk):\n",
        "                            chunk = face_bytes[i * chunk_size:(i + 1) * chunk_size]\n",
        "                            # Send the chunk\n",
        "                            push_socket.send(chunk)\n",
        "                            # Wait for acknowledgment after sending each chunk\n",
        "                            ack = push_socket.recv_string()\n",
        "                            pbar.set_postfix_str(f'Chunk {i + 1}/{total_chunk} ack: {ack}')\n",
        "                            pbar.update(1)\n",
        "                    # Send a final message to indicate all chunks are sent\n",
        "                    push_socket.send(b\"END\")\n",
        "                    # Wait for the final reply\n",
        "                    final_reply_message = push_socket.recv_string()\n",
        "                    print(f\"Received final reply: {final_reply_message}\")\n",
        "                    temp_frm = None\n",
        "                    source_frm = None\n",
        "                    is_manyface = None\n",
        "    except Exception as e:\n",
        "        print (f\"Error in Push Wokr {e}\")\n",
        "local_in_source = 5555 # @param {\"type\":\"integer\",\"placeholder\":\"5555\"}\n",
        "local_in_temp = 5556 # @param {\"type\":\"integer\",\"placeholder\":\"5556\"}\n",
        "local_out_frame = 5557 # @param {\"type\":\"integer\",\"placeholder\":\"5557\"}\n",
        "# Create sockets\n",
        "pull_socket_ = pull_socket(local_in_source)\n",
        "pull_socket_two = pull_socket(local_in_temp)\n",
        "push_socket_ = push_socket(local_out_frame)\n",
        "# Run both workers in separate threads\n",
        "# Start the pull worker thread\n",
        "pull_thread = threading.Thread(target=pull_worker, args=(pull_socket_,))\n",
        "pull_thread.start()\n",
        "# Start the push worker thread\n",
        "pull_thread_two = threading.Thread(target=pull_worker_two, args=(pull_socket_two,))\n",
        "pull_thread_two.start()\n",
        "# Start the push worker thread\n",
        "push_thread = threading.Thread(target=push_worker,args=(push_socket_,))\n",
        "push_thread.start()"
      ]
    },
    {
      "cell_type": "code",
      "execution_count": null,
      "metadata": {
        "cellView": "form",
        "id": "VNDmeHcx3Zrx"
      },
      "outputs": [],
      "source": [
        "# @title [Optional] Open FRP tunnel\n",
        "HostIP = \"194.113.64.71\" # @param {\"type\":\"string\",\"placeholder\":\"0.0.0.0\"}\n",
        "frpc_config = f\"\"\"serverAddr = \"{HostIP}\"\n",
        "serverPort = 7000\n",
        "[[proxies]]\n",
        "name = \"Pull-tcp\"\n",
        "type = \"tcp\"\n",
        "localIP = \"127.0.0.1\"\n",
        "localPort = {local_in_source}\n",
        "remotePort = 6000\n",
        "[[proxies]]\n",
        "name = \"Pull-tcp_two\"\n",
        "type = \"tcp\"\n",
        "localIP = \"127.0.0.1\"\n",
        "localPort = {local_in_temp}\n",
        "remotePort = 6001\n",
        "[[proxies]]\n",
        "name = \"Push-tcp\"\n",
        "type = \"tcp\"\n",
        "localIP = \"127.0.0.1\"\n",
        "localPort = {local_out_frame}\n",
        "remotePort = 6002\"\"\"\n",
        "with open('frp_0.59.0_linux_amd64/frpc.toml', 'w') as f:\n",
        "    f.write(frpc_config)\n",
        "#Remote tcp\n",
        "print(f'tcp://{str(HostIP)}:6000 ---> {local_in_source}')\n",
        "print(f'tcp://{str(HostIP)}:6001 ---> {local_in_temp}')\n",
        "print(f'tcp://1{str(HostIP)}:6002 ---> {local_out_frame}')\n",
        "\n",
        "from subprocess import Popen, PIPE\n",
        "import time\n",
        "ps = Popen('/kaggle/working/deepfakecollab/Scripts/open_tunnel_frs.sh', stdout=PIPE, stderr=PIPE)\n",
        "time.sleep(3)\n",
        "!/kaggle/working/deepfakecollab/Scripts/open_tunnel_frs.sh"
      ]
    },
    {
      "cell_type": "code",
      "execution_count": null,
      "metadata": {
        "cellView": "form",
        "id": "HyY2B5bmxlui"
      },
      "outputs": [],
      "source": [
        "# @title [Optional] Open Ngrok tunnel\n",
        "from subprocess import Popen, PIPE\n",
        "import shlex\n",
        "import json\n",
        "import time\n",
        "def run_with_pipe(command):\n",
        "  commands = list(map(shlex.split,command.split(\"|\")))\n",
        "  ps = Popen(commands[0], stdout=PIPE, stderr=PIPE)\n",
        "  for command in commands[1:]:\n",
        "    ps = Popen(command, stdin=ps.stdout, stdout=PIPE, stderr=PIPE)\n",
        "  return ps.stdout.readlines()\n",
        "def get_tunnel_adresses():\n",
        "  info = run_with_pipe(\"curl http://localhost:4040/api/tunnels\")\n",
        "  assert info\n",
        "  info = json.loads(info[0])\n",
        "  for tunnel in info['tunnels']:\n",
        "    url = tunnel['public_url']\n",
        "    port = url.split(':')[-1]\n",
        "    local_port = tunnel['config']['addr'].split(':')[-1]\n",
        "    print(f'{url} -> {local_port} [{tunnel[\"name\"]}]')\n",
        "    if tunnel['name'] == 'input':\n",
        "      in_addr = url\n",
        "    elif tunnel['name'] == 'inputtwo':\n",
        "      in_addrtwo = url\n",
        "    elif tunnel['name'] == 'output':\n",
        "      out_addr = url\n",
        "    else:\n",
        "      print(f'unknown tunnel: {tunnel[\"name\"]}')\n",
        "  return in_addr,in_addrtwo, out_addr\n",
        "config =\\\n",
        "f\"\"\"\n",
        "version: 2\n",
        "authtoken: {authtoken}\n",
        "region: {region}\n",
        "console_ui: False\n",
        "tunnels:\n",
        "  input:\n",
        "    addr: {local_in_source}\n",
        "    proto: tcp\n",
        "  inputtwo:\n",
        "    addr: {local_in_temp}\n",
        "    proto: tcp\n",
        "  output:\n",
        "    addr: {local_out_frame}\n",
        "    proto: tcp\n",
        "\"\"\"\n",
        "with open('ngrok.conf', 'w') as f:\n",
        "  f.write(config)\n",
        "# (Re)Open tunnel\n",
        "ps = Popen('/content/deepfakecollab/Scripts/open_tunnel_ngrok.sh', stdout=PIPE, stderr=PIPE)\n",
        "time.sleep(3)\n",
        "# Get tunnel addresses\n",
        "try:\n",
        "  in_addr,in_addr_two, out_addr = get_tunnel_adresses()\n",
        "  print(\"Tunnel opened\")\n",
        "except Exception as e:\n",
        "  [print(l.decode(), end='') for l in ps.stdout.readlines()]\n",
        "  print(\"Something went wrong, reopen the tunnel\")"
      ]
    },
    {
      "cell_type": "markdown",
      "metadata": {
        "id": "ISPEVhDV3x3c"
      },
      "source": [
        "##  **KILL PROCESS (PORTS)**"
      ]
    },
    {
      "cell_type": "code",
      "execution_count": null,
      "metadata": {
        "id": "4kC3axJEx5e8"
      },
      "outputs": [],
      "source": [
        "import subprocess\n",
        "# List of ports to free\n",
        "ports = [5555, 5556, 5557]\n",
        "for port in ports:\n",
        "    # Find the process ID (PID) using the port\n",
        "    result = subprocess.run(f\"lsof -t -i:{port}\", shell=True, capture_output=True, text=True)\n",
        "    pid = result.stdout.strip()\n",
        "\n",
        "    # Kill the process if it exists\n",
        "    if pid:\n",
        "        subprocess.run(f\"kill -9 {pid}\", shell=True)\n",
        "        print(f\"Terminated process on port {port} with PID {pid}\")\n",
        "    else:\n",
        "        print(f\"No process found on port {port}\")\n"
      ]
    }
  ],
  "metadata": {
    "accelerator": "GPU",
    "colab": {
      "collapsed_sections": [
        "0rTCd2R1uw7A",
        "9n-qESinvM22",
        "sNHGT2FjjZiK",
        "ISPEVhDV3x3c"
      ],
      "gpuType": "T4",
      "provenance": [],
      "toc_visible": true,
      "include_colab_link": true
    },
    "kaggle": {
      "accelerator": "none",
      "dataSources": [],
      "dockerImageVersionId": 30786,
      "isGpuEnabled": false,
      "isInternetEnabled": true,
      "language": "python",
      "sourceType": "notebook"
    },
    "kernelspec": {
      "display_name": "Python 3",
      "name": "python3"
    },
    "language_info": {
      "codemirror_mode": {
        "name": "ipython",
        "version": 3
      },
      "file_extension": ".py",
      "mimetype": "text/x-python",
      "name": "python",
      "nbconvert_exporter": "python",
      "pygments_lexer": "ipython3",
      "version": "3.10.14"
    }
  },
  "nbformat": 4,
  "nbformat_minor": 0
}